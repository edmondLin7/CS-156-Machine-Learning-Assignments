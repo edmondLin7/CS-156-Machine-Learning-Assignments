{
 "cells": [
  {
   "cell_type": "code",
   "execution_count": 1,
   "metadata": {},
   "outputs": [],
   "source": [
    "# <b>CS156 (Introduction to AI), Spring 2021</b>\n",
    "# <u><b>Homework 10 submission</b></u>\n",
    "### Roster Name: Edmond Lin\n",
    "### Preferred Name (if different): Chosen Name\n",
    "### Student ID: 012290668\n",
    "### Email address: edmond.lin@sjsu.edu\n",
    "##  <u>Solution</u>"
   ]
  },
  {
   "cell_type": "code",
   "execution_count": null,
   "metadata": {},
   "outputs": [],
   "source": [
    "import tensorflow\n",
    "from tensorflow import keras\n",
    "from tensorflow.keras.layers import BatchNormalization\n",
    "from tensorflow.keras.layers import Conv2D\n",
    "from tensorflow.keras.layers import Conv2DTranspose\n",
    "from tensorflow.keras.layers import LeakyReLU\n",
    "from tensorflow.keras.layers import Activation\n",
    "from tensorflow.keras.layers import Flatten\n",
    "from tensorflow.keras.layers import Dense\n",
    "from tensorflow.keras.layers import Reshape\n",
    "from tensorflow.keras.layers import Input\n",
    "from tensorflow.keras.models import Model\n",
    "from tensorflow.keras import backend as K\n",
    "import numpy as np\n",
    "from tensorflow.keras.layers import Dense, Input, Conv2D, LSTM, MaxPool2D, UpSampling2D\n",
    "from sklearn.model_selection import train_test_split\n",
    "from tensorflow.keras.callbacks import EarlyStopping\n",
    "from tensorflow.keras.utils import to_categorical\n",
    "from numpy import argmax, array_equal\n",
    "import matplotlib.pyplot as plt\n",
    "import seaborn as sns\n",
    "from tensorflow.keras.models import Model\n",
    "from random import randint\n",
    "import pandas as pd\n",
    "import numpy as np\n",
    "from tensorflow.keras import layers\n",
    "from PIL import Image\n",
    "from tensorflow.keras import regularizers\n",
    "from tensorflow.keras import backend"
   ]
  },
  {
   "cell_type": "code",
   "execution_count": 20,
   "metadata": {},
   "outputs": [],
   "source": [
    "(x_train_valid, y_train_valid), (x_test, y_test) = keras.datasets.fashion_mnist.load_data()"
   ]
  },
  {
   "cell_type": "code",
   "execution_count": 21,
   "metadata": {},
   "outputs": [],
   "source": [
    "x_train, x_validation, y_train, y_validation = train_test_split(x_train_valid, y_train_valid, test_size=0.2, random_state=0)"
   ]
  },
  {
   "cell_type": "code",
   "execution_count": 22,
   "metadata": {},
   "outputs": [
    {
     "data": {
      "text/plain": [
       "((48000, 28, 28), (12000, 28, 28), (10000, 28, 28))"
      ]
     },
     "execution_count": 22,
     "metadata": {},
     "output_type": "execute_result"
    }
   ],
   "source": [
    "# Scale images to the [0, 1] range\n",
    "x_train = x_train.astype(\"float32\") / 255\n",
    "x_validation = x_validation.astype(\"float32\") / 255\n",
    "x_test = x_test.astype(\"float32\") / 255\n",
    "x_train.shape, x_validation.shape, x_test.shape"
   ]
  },
  {
   "cell_type": "code",
   "execution_count": 23,
   "metadata": {},
   "outputs": [
    {
     "data": {
      "text/plain": [
       "((48000, 784), (12000, 784), (10000, 784))"
      ]
     },
     "execution_count": 23,
     "metadata": {},
     "output_type": "execute_result"
    }
   ],
   "source": [
    "x_train = x_train.reshape(-1, 784)\n",
    "x_validation = x_validation.reshape(-1, 784)\n",
    "x_test = x_test.reshape(-1, 784)\n",
    "\n",
    "x_train.shape, x_validation.shape, x_test.shape"
   ]
  },
  {
   "cell_type": "code",
   "execution_count": 24,
   "metadata": {},
   "outputs": [
    {
     "name": "stdout",
     "output_type": "stream",
     "text": [
      "Model: \"model_9\"\n",
      "_________________________________________________________________\n",
      "Layer (type)                 Output Shape              Param #   \n",
      "=================================================================\n",
      "input_7 (InputLayer)         [(None, 784)]             0         \n",
      "_________________________________________________________________\n",
      "dense_18 (Dense)             (None, 128)               100480    \n",
      "_________________________________________________________________\n",
      "dense_19 (Dense)             (None, 64)                8256      \n",
      "_________________________________________________________________\n",
      "dense_20 (Dense)             (None, 32)                2080      \n",
      "_________________________________________________________________\n",
      "dense_21 (Dense)             (None, 64)                2112      \n",
      "_________________________________________________________________\n",
      "dense_22 (Dense)             (None, 128)               8320      \n",
      "_________________________________________________________________\n",
      "dense_23 (Dense)             (None, 784)               101136    \n",
      "=================================================================\n",
      "Total params: 222,384\n",
      "Trainable params: 222,384\n",
      "Non-trainable params: 0\n",
      "_________________________________________________________________\n"
     ]
    }
   ],
   "source": [
    "## input layer\n",
    "input_layer = Input(shape=(784,))   # 28*28\n",
    "\n",
    "## encoding architecture\n",
    "encode_layer1 = Dense(128, activation='relu')(input_layer)\n",
    "encode_layer2 = Dense(64, activation='relu')(encode_layer1)\n",
    "encode_layer3 = Dense(32, activation='relu')(encode_layer2)\n",
    "\n",
    "\n",
    "## decoding architecture\n",
    "decode_layer1 = Dense(64, activation='relu')(encode_layer3)\n",
    "decode_layer2 = Dense(128, activation='relu')(decode_layer1)\n",
    "decode_layer3 = Dense(784, activation='sigmoid')(decode_layer2)\n",
    "\n",
    "## output layer\n",
    "model = Model(input_layer, decode_layer3)\n",
    "\n",
    "model.summary()"
   ]
  },
  {
   "cell_type": "code",
   "execution_count": 29,
   "metadata": {},
   "outputs": [
    {
     "name": "stdout",
     "output_type": "stream",
     "text": [
      "Epoch 1/30\n",
      "24/24 [==============================] - 2s 74ms/step - loss: 0.1483 - val_loss: 0.0867\n",
      "Epoch 2/30\n",
      "24/24 [==============================] - 1s 52ms/step - loss: 0.0774 - val_loss: 0.0578\n",
      "Epoch 3/30\n",
      "24/24 [==============================] - 1s 54ms/step - loss: 0.0534 - val_loss: 0.0441\n",
      "Epoch 4/30\n",
      "24/24 [==============================] - 2s 74ms/step - loss: 0.0422 - val_loss: 0.0366\n",
      "Epoch 5/30\n",
      "24/24 [==============================] - 1s 52ms/step - loss: 0.0352 - val_loss: 0.0326\n",
      "Epoch 6/30\n",
      "24/24 [==============================] - 1s 52ms/step - loss: 0.0313 - val_loss: 0.0289\n",
      "Epoch 7/30\n",
      "24/24 [==============================] - 2s 100ms/step - loss: 0.0280 - val_loss: 0.0265\n",
      "Epoch 8/30\n",
      "24/24 [==============================] - 2s 64ms/step - loss: 0.0261 - val_loss: 0.0258\n",
      "Epoch 9/30\n",
      "24/24 [==============================] - 1s 52ms/step - loss: 0.0251 - val_loss: 0.0248\n",
      "Epoch 10/30\n",
      "24/24 [==============================] - 1s 49ms/step - loss: 0.0242 - val_loss: 0.0237\n",
      "Epoch 11/30\n",
      "24/24 [==============================] - 2s 82ms/step - loss: 0.0236 - val_loss: 0.0240\n",
      "Epoch 12/30\n",
      "24/24 [==============================] - 1s 61ms/step - loss: 0.0239 - val_loss: 0.0230\n",
      "Epoch 13/30\n",
      "24/24 [==============================] - 1s 49ms/step - loss: 0.0226 - val_loss: 0.0223\n",
      "Epoch 14/30\n",
      "24/24 [==============================] - 1s 46ms/step - loss: 0.0219 - val_loss: 0.0218\n",
      "Epoch 15/30\n",
      "24/24 [==============================] - 1s 51ms/step - loss: 0.0215 - val_loss: 0.0213\n",
      "Epoch 16/30\n",
      "24/24 [==============================] - 1s 47ms/step - loss: 0.0211 - val_loss: 0.0209\n",
      "Epoch 17/30\n",
      "24/24 [==============================] - 1s 50ms/step - loss: 0.0207 - val_loss: 0.0206\n",
      "Epoch 18/30\n",
      "24/24 [==============================] - 1s 54ms/step - loss: 0.0205 - val_loss: 0.0204\n",
      "Epoch 19/30\n",
      "24/24 [==============================] - 1s 53ms/step - loss: 0.0200 - val_loss: 0.0200\n",
      "Epoch 20/30\n",
      "24/24 [==============================] - 1s 47ms/step - loss: 0.0202 - val_loss: 0.0199\n",
      "Epoch 21/30\n",
      "24/24 [==============================] - 1s 51ms/step - loss: 0.0195 - val_loss: 0.0194\n",
      "Epoch 22/30\n",
      "24/24 [==============================] - 1s 57ms/step - loss: 0.0192 - val_loss: 0.0193\n",
      "Epoch 23/30\n",
      "24/24 [==============================] - 1s 48ms/step - loss: 0.0190 - val_loss: 0.0189\n",
      "Epoch 24/30\n",
      "24/24 [==============================] - 1s 47ms/step - loss: 0.0188 - val_loss: 0.0187\n",
      "Epoch 25/30\n",
      "24/24 [==============================] - 1s 48ms/step - loss: 0.0185 - val_loss: 0.0186\n",
      "Epoch 26/30\n",
      "24/24 [==============================] - 1s 48ms/step - loss: 0.0184 - val_loss: 0.0184\n",
      "Epoch 27/30\n",
      "24/24 [==============================] - 1s 48ms/step - loss: 0.0181 - val_loss: 0.0182\n",
      "Epoch 28/30\n",
      "24/24 [==============================] - 1s 53ms/step - loss: 0.0184 - val_loss: 0.0181\n",
      "Epoch 29/30\n",
      "24/24 [==============================] - 1s 48ms/step - loss: 0.0179 - val_loss: 0.0179\n",
      "Epoch 30/30\n",
      "24/24 [==============================] - 1s 52ms/step - loss: 0.0177 - val_loss: 0.0180\n"
     ]
    },
    {
     "data": {
      "text/plain": [
       "<tensorflow.python.keras.callbacks.History at 0x7f9020f56130>"
      ]
     },
     "execution_count": 29,
     "metadata": {},
     "output_type": "execute_result"
    }
   ],
   "source": [
    "model.compile(optimizer='adam', loss='mse')\n",
    "from tensorflow.keras.callbacks import TensorBoard\n",
    "import tensorflow as tf\n",
    "import keras\n",
    "\n",
    "tboard_callback = tf.keras.callbacks.TensorBoard(log_dir = \"/tmp/autoencoder\",\n",
    "                                                 histogram_freq = 1,\n",
    "                                                 profile_batch = '500,520')\n",
    "\n",
    "model.fit(x_train, x_train,\n",
    "                epochs=30,\n",
    "                batch_size=2048,\n",
    "                shuffle=True,\n",
    "                validation_data=(x_validation, x_validation),\n",
    "                callbacks = [tboard_callback])"
   ]
  },
  {
   "cell_type": "code",
   "execution_count": 30,
   "metadata": {},
   "outputs": [
    {
     "data": {
      "image/png": "[encoded data removed]",
      "text/plain": [
       "<Figure size 1440x288 with 20 Axes>"
      ]
     },
     "metadata": {
      "needs_background": "light"
     },
     "output_type": "display_data"
    }
   ],
   "source": [
    "predictions = model.predict(x_test)\n",
    "n = 10\n",
    "plt.figure(figsize=(20, 4))\n",
    "for i in range(n):\n",
    "    # original\n",
    "    ax = plt.subplot(2, n, i + 1)\n",
    "    plt.imshow(x_test[i].reshape(28, 28))\n",
    "    plt.gray()\n",
    "    ax.get_xaxis().set_visible(False)\n",
    "    ax.get_yaxis().set_visible(False)\n",
    "\n",
    "    # reconstruction\n",
    "    ax = plt.subplot(2, n, i + 1 + n)\n",
    "    plt.imshow(predictions[i].reshape(28, 28))\n",
    "    plt.gray()\n",
    "    ax.get_xaxis().set_visible(False)\n",
    "    ax.get_yaxis().set_visible(False)\n",
    "plt.show()"
   ]
  },
  {
   "cell_type": "code",
   "execution_count": 31,
   "metadata": {},
   "outputs": [
    {
     "data": {
      "text/plain": [
       "[<tensorflow.python.keras.callbacks.TensorBoard at 0x7f9010ec0280>]"
      ]
     },
     "execution_count": 31,
     "metadata": {},
     "output_type": "execute_result"
    }
   ],
   "source": [
    "[TensorBoard(log_dir='/tmp/autoencoder', histogram_freq=0, write_graph=True)]"
   ]
  },
  {
   "cell_type": "code",
   "execution_count": 32,
   "metadata": {},
   "outputs": [
    {
     "name": "stdout",
     "output_type": "stream",
     "text": [
      "The tensorboard extension is already loaded. To reload it, use:\n",
      "  %reload_ext tensorboard\n"
     ]
    },
    {
     "data": {
      "text/plain": [
       "Reusing TensorBoard on port 6006 (pid 46233), started 0:02:15 ago. (Use '!kill 46233' to kill it.)"
      ]
     },
     "metadata": {},
     "output_type": "display_data"
    },
    {
     "data": {
      "text/html": [
       "\n",
       "      <iframe id=\"tensorboard-frame-4cb58f132663779f\" width=\"100%\" height=\"800\" frameborder=\"0\">\n",
       "      </iframe>\n",
       "      <script>\n",
       "        (function() {\n",
       "          const frame = document.getElementById(\"tensorboard-frame-4cb58f132663779f\");\n",
       "          const url = new URL(\"/\", window.location);\n",
       "          const port = 6006;\n",
       "          if (port) {\n",
       "            url.port = port;\n",
       "          }\n",
       "          frame.src = url;\n",
       "        })();\n",
       "      </script>\n",
       "    "
      ],
      "text/plain": [
       "<IPython.core.display.HTML object>"
      ]
     },
     "metadata": {},
     "output_type": "display_data"
    }
   ],
   "source": [
    "%load_ext tensorboard\n",
    "%tensorboard --logdir=/tmp/autoencoder\n",
    "# %reload_ext tensorboard\n"
   ]
  },
  {
   "cell_type": "code",
   "execution_count": 33,
   "metadata": {},
   "outputs": [
    {
     "data": {
      "text/plain": [
       "((48000, 28, 28, 1), (12000, 28, 28, 1), (10000, 28, 28, 1))"
      ]
     },
     "execution_count": 33,
     "metadata": {},
     "output_type": "execute_result"
    }
   ],
   "source": [
    "x_train = x_train.reshape(-1, 28, 28, 1)\n",
    "x_validation = x_validation.reshape(-1, 28, 28, 1)\n",
    "x_test = x_test.reshape(-1, 28, 28, 1)\n",
    "\n",
    "x_train.shape, x_validation.shape, x_test.shape"
   ]
  },
  {
   "cell_type": "code",
   "execution_count": 34,
   "metadata": {},
   "outputs": [],
   "source": [
    "input_layer = Input(shape=(28, 28, 1))\n",
    "\n",
    "x = layers.Conv2D(16, (3, 3), activation='relu', padding='same')(input_layer)\n",
    "x = layers.MaxPooling2D((2, 2), padding='same')(x)\n",
    "x = layers.Conv2D(8, (3, 3), activation='relu', padding='same')(x)\n",
    "x = layers.MaxPooling2D((2, 2), padding='same')(x)\n",
    "x = layers.Conv2D(8, (3, 3), activation='relu', padding='same')(x)\n",
    "encoded = layers.MaxPooling2D((2, 2), padding='same')(x)\n",
    "\n",
    "x = layers.Conv2D(8, (3, 3), activation='relu', padding='same')(encoded)\n",
    "x = layers.UpSampling2D((2, 2))(x)\n",
    "x = layers.Conv2D(8, (3, 3), activation='relu', padding='same')(x)\n",
    "x = layers.UpSampling2D((2, 2))(x)\n",
    "x = layers.Conv2D(16, (3, 3), activation='relu')(x)\n",
    "x = layers.UpSampling2D((2, 2))(x)\n",
    "decoded = layers.Conv2D(1, (3, 3), activation='sigmoid', padding='same')(x)\n",
    "\n",
    "autoencoder = keras.Model(input_layer, decoded)\n",
    "autoencoder.compile(optimizer='adam', loss='binary_crossentropy')"
   ]
  },
  {
   "cell_type": "code",
   "execution_count": 35,
   "metadata": {},
   "outputs": [
    {
     "name": "stdout",
     "output_type": "stream",
     "text": [
      "Epoch 1/30\n",
      "24/24 [==============================] - 49s 2s/step - loss: 0.6818 - val_loss: 0.6185\n",
      "Epoch 2/30\n",
      "24/24 [==============================] - 52s 2s/step - loss: 0.5830 - val_loss: 0.4664\n",
      "Epoch 3/30\n",
      "24/24 [==============================] - 48s 2s/step - loss: 0.4280 - val_loss: 0.3685\n",
      "Epoch 4/30\n",
      "24/24 [==============================] - 37s 2s/step - loss: 0.3643 - val_loss: 0.3511\n",
      "Epoch 5/30\n",
      "24/24 [==============================] - 34s 1s/step - loss: 0.3492 - val_loss: 0.3425\n",
      "Epoch 6/30\n",
      "24/24 [==============================] - 39s 2s/step - loss: 0.3418 - val_loss: 0.3366\n",
      "Epoch 7/30\n",
      "24/24 [==============================] - 40s 2s/step - loss: 0.3355 - val_loss: 0.3325\n",
      "Epoch 8/30\n",
      "24/24 [==============================] - 45s 2s/step - loss: 0.3325 - val_loss: 0.3298\n",
      "Epoch 9/30\n",
      "24/24 [==============================] - 68s 3s/step - loss: 0.3294 - val_loss: 0.3276\n",
      "Epoch 10/30\n",
      "24/24 [==============================] - 36s 1s/step - loss: 0.3274 - val_loss: 0.3257\n",
      "Epoch 11/30\n",
      "24/24 [==============================] - 40s 2s/step - loss: 0.3252 - val_loss: 0.3241\n",
      "Epoch 12/30\n",
      "24/24 [==============================] - 38s 2s/step - loss: 0.3239 - val_loss: 0.3226\n",
      "Epoch 13/30\n",
      "24/24 [==============================] - 34s 1s/step - loss: 0.3217 - val_loss: 0.3212\n",
      "Epoch 14/30\n",
      "24/24 [==============================] - 42s 2s/step - loss: 0.3211 - val_loss: 0.3200\n",
      "Epoch 15/30\n",
      "24/24 [==============================] - 37s 2s/step - loss: 0.3196 - val_loss: 0.3185\n",
      "Epoch 16/30\n",
      "24/24 [==============================] - 39s 2s/step - loss: 0.3175 - val_loss: 0.3168\n",
      "Epoch 17/30\n",
      "24/24 [==============================] - 39s 2s/step - loss: 0.3174 - val_loss: 0.3156\n",
      "Epoch 18/30\n",
      "24/24 [==============================] - 37s 2s/step - loss: 0.3162 - val_loss: 0.3146\n",
      "Epoch 19/30\n",
      "24/24 [==============================] - 38s 2s/step - loss: 0.3145 - val_loss: 0.3132\n",
      "Epoch 20/30\n",
      "24/24 [==============================] - 36s 1s/step - loss: 0.3133 - val_loss: 0.3121\n",
      "Epoch 21/30\n",
      "24/24 [==============================] - 37s 2s/step - loss: 0.3115 - val_loss: 0.3110\n",
      "Epoch 22/30\n",
      "24/24 [==============================] - 37s 2s/step - loss: 0.3110 - val_loss: 0.3096\n",
      "Epoch 23/30\n",
      "24/24 [==============================] - 36s 1s/step - loss: 0.3105 - val_loss: 0.3086\n",
      "Epoch 24/30\n",
      "24/24 [==============================] - 40s 2s/step - loss: 0.3087 - val_loss: 0.3076\n",
      "Epoch 25/30\n",
      "24/24 [==============================] - 45s 2s/step - loss: 0.3069 - val_loss: 0.3068\n",
      "Epoch 26/30\n",
      "24/24 [==============================] - 37s 2s/step - loss: 0.3072 - val_loss: 0.3062\n",
      "Epoch 27/30\n",
      "24/24 [==============================] - 38s 2s/step - loss: 0.3060 - val_loss: 0.3055\n",
      "Epoch 28/30\n",
      "24/24 [==============================] - 35s 1s/step - loss: 0.3057 - val_loss: 0.3049\n",
      "Epoch 29/30\n",
      "24/24 [==============================] - 43s 2s/step - loss: 0.3042 - val_loss: 0.3051\n",
      "Epoch 30/30\n",
      "24/24 [==============================] - 113s 5s/step - loss: 0.3046 - val_loss: 0.3039\n"
     ]
    },
    {
     "data": {
      "text/plain": [
       "<tensorflow.python.keras.callbacks.History at 0x7f9021c355b0>"
      ]
     },
     "execution_count": 35,
     "metadata": {},
     "output_type": "execute_result"
    }
   ],
   "source": [
    "autoencoder.fit(x_train, x_train,\n",
    "                epochs=30,\n",
    "                batch_size=2048,\n",
    "                shuffle=True,\n",
    "                validation_data=(x_validation, x_validation))"
   ]
  },
  {
   "cell_type": "code",
   "execution_count": 36,
   "metadata": {},
   "outputs": [],
   "source": [
    "noise_factor = 0.4\n",
    "x_train_noisy = x_train + noise_factor * np.random.normal(loc=0.0, scale=1.0, size=x_train.shape) \n",
    "x_validation_noisy = x_validation + noise_factor * np.random.normal(loc=0.0, scale=1.0, size=x_validation.shape) \n",
    "x_test_noisy = x_test + noise_factor * np.random.normal(loc=0.0, scale=1.0, size=x_test.shape) \n",
    "\n",
    "x_train_noisy = np.clip(x_train_noisy, 0., 1.)\n",
    "x_validation_noisy = np.clip(x_validation_noisy, 0., 1.)\n",
    "x_test_noisy = np.clip(x_test_noisy, 0., 1.)"
   ]
  },
  {
   "cell_type": "code",
   "execution_count": 37,
   "metadata": {},
   "outputs": [
    {
     "data": {
      "image/png": "[encoded data removed]",
      "text/plain": [
       "<Figure size 1440x144 with 10 Axes>"
      ]
     },
     "metadata": {
      "needs_background": "light"
     },
     "output_type": "display_data"
    }
   ],
   "source": [
    "n = 10\n",
    "plt.figure(figsize=(20, 2))\n",
    "for i in range(1, n + 1):\n",
    "    ax = plt.subplot(1, n, i)\n",
    "    plt.imshow(x_test_noisy[i].reshape(28, 28))\n",
    "    plt.gray()\n",
    "    ax.get_xaxis().set_visible(False)\n",
    "    ax.get_yaxis().set_visible(False)\n",
    "plt.show()"
   ]
  },
  {
   "cell_type": "code",
   "execution_count": 38,
   "metadata": {},
   "outputs": [
    {
     "name": "stdout",
     "output_type": "stream",
     "text": [
      "Model: \"model_11\"\n",
      "_________________________________________________________________\n",
      "Layer (type)                 Output Shape              Param #   \n",
      "=================================================================\n",
      "input_9 (InputLayer)         [(None, 28, 28, 1)]       0         \n",
      "_________________________________________________________________\n",
      "conv2d_7 (Conv2D)            (None, 28, 28, 32)        320       \n",
      "_________________________________________________________________\n",
      "max_pooling2d_3 (MaxPooling2 (None, 14, 14, 32)        0         \n",
      "_________________________________________________________________\n",
      "conv2d_8 (Conv2D)            (None, 14, 14, 32)        9248      \n",
      "_________________________________________________________________\n",
      "max_pooling2d_4 (MaxPooling2 (None, 7, 7, 32)          0         \n",
      "_________________________________________________________________\n",
      "conv2d_9 (Conv2D)            (None, 7, 7, 32)          9248      \n",
      "_________________________________________________________________\n",
      "up_sampling2d_3 (UpSampling2 (None, 14, 14, 32)        0         \n",
      "_________________________________________________________________\n",
      "conv2d_10 (Conv2D)           (None, 14, 14, 32)        9248      \n",
      "_________________________________________________________________\n",
      "up_sampling2d_4 (UpSampling2 (None, 28, 28, 32)        0         \n",
      "_________________________________________________________________\n",
      "conv2d_11 (Conv2D)           (None, 28, 28, 1)         289       \n",
      "=================================================================\n",
      "Total params: 28,353\n",
      "Trainable params: 28,353\n",
      "Non-trainable params: 0\n",
      "_________________________________________________________________\n"
     ]
    }
   ],
   "source": [
    "input_layer = keras.Input(shape=(28, 28, 1))\n",
    "\n",
    "x = layers.Conv2D(32, (3, 3), activation='relu', padding='same')(input_layer)\n",
    "x = layers.MaxPooling2D((2, 2), padding='same')(x)\n",
    "x = layers.Conv2D(32, (3, 3), activation='relu', padding='same')(x)\n",
    "encoded = layers.MaxPooling2D((2, 2), padding='same')(x)\n",
    "\n",
    "x = layers.Conv2D(32, (3, 3), activation='relu', padding='same')(encoded)\n",
    "x = layers.UpSampling2D((2, 2))(x)\n",
    "x = layers.Conv2D(32, (3, 3), activation='relu', padding='same')(x)\n",
    "x = layers.UpSampling2D((2, 2))(x)\n",
    "decoded = layers.Conv2D(1, (3, 3), activation='sigmoid', padding='same')(x)\n",
    "\n",
    "autoencoder = keras.Model(input_layer, decoded)\n",
    "autoencoder.compile(optimizer='adam', loss='binary_crossentropy')\n",
    "autoencoder.summary()"
   ]
  },
  {
   "cell_type": "code",
   "execution_count": 39,
   "metadata": {},
   "outputs": [
    {
     "name": "stdout",
     "output_type": "stream",
     "text": [
      "Epoch 1/30\n",
      "24/24 [==============================] - 151s 6s/step - loss: 0.6231 - val_loss: 0.3900\n",
      "Epoch 2/30\n",
      "24/24 [==============================] - 85s 4s/step - loss: 0.3740 - val_loss: 0.3402\n",
      "Epoch 3/30\n",
      "24/24 [==============================] - 116s 5s/step - loss: 0.3351 - val_loss: 0.3270\n",
      "Epoch 4/30\n",
      "24/24 [==============================] - 133s 6s/step - loss: 0.3246 - val_loss: 0.3189\n",
      "Epoch 5/30\n",
      "24/24 [==============================] - 85s 4s/step - loss: 0.3179 - val_loss: 0.3147\n",
      "Epoch 6/30\n",
      "24/24 [==============================] - 81s 3s/step - loss: 0.3148 - val_loss: 0.3122\n",
      "Epoch 7/30\n",
      "24/24 [==============================] - 75s 3s/step - loss: 0.3118 - val_loss: 0.3106\n",
      "Epoch 8/30\n",
      "24/24 [==============================] - 65s 3s/step - loss: 0.3101 - val_loss: 0.3082\n",
      "Epoch 9/30\n",
      "24/24 [==============================] - 90s 4s/step - loss: 0.3082 - val_loss: 0.3080\n",
      "Epoch 10/30\n",
      "24/24 [==============================] - 75s 3s/step - loss: 0.3065 - val_loss: 0.3052\n",
      "Epoch 11/30\n",
      "24/24 [==============================] - 97s 4s/step - loss: 0.3050 - val_loss: 0.3041\n",
      "Epoch 12/30\n",
      "24/24 [==============================] - 60s 2s/step - loss: 0.3045 - val_loss: 0.3032\n",
      "Epoch 13/30\n",
      "24/24 [==============================] - 82s 3s/step - loss: 0.3029 - val_loss: 0.3025\n",
      "Epoch 14/30\n",
      "24/24 [==============================] - 71s 3s/step - loss: 0.3025 - val_loss: 0.3013\n",
      "Epoch 15/30\n",
      "24/24 [==============================] - 58s 2s/step - loss: 0.3016 - val_loss: 0.3004\n",
      "Epoch 16/30\n",
      "24/24 [==============================] - 68s 3s/step - loss: 0.3008 - val_loss: 0.3000\n",
      "Epoch 17/30\n",
      "24/24 [==============================] - 76s 3s/step - loss: 0.2988 - val_loss: 0.2992\n",
      "Epoch 18/30\n",
      "24/24 [==============================] - 61s 3s/step - loss: 0.2996 - val_loss: 0.2984\n",
      "Epoch 19/30\n",
      "24/24 [==============================] - 77s 3s/step - loss: 0.2990 - val_loss: 0.2980\n",
      "Epoch 20/30\n",
      "24/24 [==============================] - 83s 4s/step - loss: 0.2983 - val_loss: 0.2973\n",
      "Epoch 21/30\n",
      "24/24 [==============================] - 77s 3s/step - loss: 0.2971 - val_loss: 0.2975\n",
      "Epoch 22/30\n",
      "24/24 [==============================] - 87s 4s/step - loss: 0.2972 - val_loss: 0.2971\n",
      "Epoch 23/30\n",
      "24/24 [==============================] - 92s 4s/step - loss: 0.2966 - val_loss: 0.2961\n",
      "Epoch 24/30\n",
      "24/24 [==============================] - 821s 36s/step - loss: 0.2961 - val_loss: 0.2958\n",
      "Epoch 25/30\n",
      "24/24 [==============================] - 25953s 12s/step - loss: 0.2958 - val_loss: 0.2954\n",
      "Epoch 26/30\n",
      "24/24 [==============================] - 187s 8s/step - loss: 0.2954 - val_loss: 0.2950\n",
      "Epoch 27/30\n",
      "24/24 [==============================] - 120s 5s/step - loss: 0.2952 - val_loss: 0.2948\n",
      "Epoch 28/30\n",
      "24/24 [==============================] - 125s 5s/step - loss: 0.2949 - val_loss: 0.2944\n",
      "Epoch 29/30\n",
      "24/24 [==============================] - 114s 4s/step - loss: 0.2944 - val_loss: 0.2947\n",
      "Epoch 30/30\n",
      "24/24 [==============================] - 124s 5s/step - loss: 0.2949 - val_loss: 0.2939\n"
     ]
    },
    {
     "data": {
      "text/plain": [
       "<tensorflow.python.keras.callbacks.History at 0x7f8f27e8f520>"
      ]
     },
     "execution_count": 39,
     "metadata": {},
     "output_type": "execute_result"
    }
   ],
   "source": [
    "autoencoder.fit(x_train_noisy, x_train,\n",
    "                epochs=30,\n",
    "                batch_size=2048,\n",
    "                shuffle=True,\n",
    "                validation_data=(x_validation_noisy, x_validation))"
   ]
  },
  {
   "cell_type": "code",
   "execution_count": 40,
   "metadata": {},
   "outputs": [
    {
     "data": {
      "image/png": "[encoded data removed]",
      "text/plain": [
       "<Figure size 1440x288 with 20 Axes>"
      ]
     },
     "metadata": {
      "needs_background": "light"
     },
     "output_type": "display_data"
    }
   ],
   "source": [
    " predictions = autoencoder.predict(x_test)\n",
    "\n",
    "n = 10\n",
    "plt.figure(figsize=(20, 4))\n",
    "for i in range(n):\n",
    "    # noisy\n",
    "    ax = plt.subplot(2, n, i + 1)\n",
    "    plt.imshow(x_test_noisy[i].reshape(28, 28))\n",
    "    plt.gray()\n",
    "    ax.get_xaxis().set_visible(False)\n",
    "    ax.get_yaxis().set_visible(False)\n",
    "\n",
    "    # reconstruction\n",
    "    ax = plt.subplot(2, n, i + 1 + n)\n",
    "    plt.imshow(predictions[i].reshape(28, 28))\n",
    "    plt.gray()\n",
    "    ax.get_xaxis().set_visible(False)\n",
    "    ax.get_yaxis().set_visible(False)\n",
    "plt.show()"
   ]
  },
  {
   "cell_type": "code",
   "execution_count": null,
   "metadata": {},
   "outputs": [],
   "source": []
  }
 ],
 "metadata": {
  "kernelspec": {
   "display_name": "Python 3",
   "language": "python",
   "name": "python3"
  },
  "language_info": {
   "codemirror_mode": {
    "name": "ipython",
    "version": 3
   },
   "file_extension": ".py",
   "mimetype": "text/x-python",
   "name": "python",
   "nbconvert_exporter": "python",
   "pygments_lexer": "ipython3",
   "version": "3.8.5"
  }
 },
 "nbformat": 4,
 "nbformat_minor": 4
}
